{
 "cells": [
  {
   "cell_type": "code",
   "execution_count": 5,
   "metadata": {},
   "outputs": [],
   "source": [
    "import numpy as np\n",
    "import pandas as pd"
   ]
  },
  {
   "cell_type": "code",
   "execution_count": 15,
   "metadata": {},
   "outputs": [],
   "source": [
    "features = pd.read_csv('../data/processed/cancun_filtered_features.csv')\n",
    "filters = pd.read_csv('../data/processed/cancun_filters.csv')"
   ]
  },
  {
   "cell_type": "code",
   "execution_count": 16,
   "metadata": {},
   "outputs": [
    {
     "data": {
      "text/html": [
       "<div>\n",
       "<style scoped>\n",
       "    .dataframe tbody tr th:only-of-type {\n",
       "        vertical-align: middle;\n",
       "    }\n",
       "\n",
       "    .dataframe tbody tr th {\n",
       "        vertical-align: top;\n",
       "    }\n",
       "\n",
       "    .dataframe thead th {\n",
       "        text-align: right;\n",
       "    }\n",
       "</style>\n",
       "<table border=\"1\" class=\"dataframe\">\n",
       "  <thead>\n",
       "    <tr style=\"text-align: right;\">\n",
       "      <th></th>\n",
       "      <th>bathrooms</th>\n",
       "      <th>bedrooms</th>\n",
       "      <th>num_beds</th>\n",
       "      <th>can_instant_book</th>\n",
       "      <th>is_fully_refundable</th>\n",
       "      <th>is_superhost</th>\n",
       "      <th>is_new_listing</th>\n",
       "      <th>room_type_category</th>\n",
       "      <th>person_capacity</th>\n",
       "      <th>lat</th>\n",
       "      <th>lng</th>\n",
       "      <th>price</th>\n",
       "      <th>url</th>\n",
       "      <th>listing_key</th>\n",
       "      <th>price_in_usd</th>\n",
       "    </tr>\n",
       "  </thead>\n",
       "  <tbody>\n",
       "    <tr>\n",
       "      <th>0</th>\n",
       "      <td>1.0</td>\n",
       "      <td>1.0</td>\n",
       "      <td>1</td>\n",
       "      <td>True</td>\n",
       "      <td>True</td>\n",
       "      <td>True</td>\n",
       "      <td>False</td>\n",
       "      <td>private_room</td>\n",
       "      <td>2</td>\n",
       "      <td>21.13566</td>\n",
       "      <td>-86.76741</td>\n",
       "      <td>22</td>\n",
       "      <td>https://www.airbnb.com/rooms/20776319</td>\n",
       "      <td>20776319</td>\n",
       "      <td>16.541353</td>\n",
       "    </tr>\n",
       "  </tbody>\n",
       "</table>\n",
       "</div>"
      ],
      "text/plain": [
       "   bathrooms  bedrooms  num_beds  can_instant_book  is_fully_refundable  \\\n",
       "0        1.0       1.0         1              True                 True   \n",
       "\n",
       "   is_superhost  is_new_listing room_type_category  person_capacity       lat  \\\n",
       "0          True           False       private_room                2  21.13566   \n",
       "\n",
       "        lng  price                                    url  listing_key  \\\n",
       "0 -86.76741     22  https://www.airbnb.com/rooms/20776319     20776319   \n",
       "\n",
       "   price_in_usd  \n",
       "0     16.541353  "
      ]
     },
     "execution_count": 16,
     "metadata": {},
     "output_type": "execute_result"
    }
   ],
   "source": [
    "filters.head(1)"
   ]
  },
  {
   "cell_type": "code",
   "execution_count": null,
   "metadata": {},
   "outputs": [],
   "source": []
  },
  {
   "cell_type": "code",
   "execution_count": 17,
   "metadata": {},
   "outputs": [
    {
     "data": {
      "text/html": [
       "<div>\n",
       "<style scoped>\n",
       "    .dataframe tbody tr th:only-of-type {\n",
       "        vertical-align: middle;\n",
       "    }\n",
       "\n",
       "    .dataframe tbody tr th {\n",
       "        vertical-align: top;\n",
       "    }\n",
       "\n",
       "    .dataframe thead th {\n",
       "        text-align: right;\n",
       "    }\n",
       "</style>\n",
       "<table border=\"1\" class=\"dataframe\">\n",
       "  <thead>\n",
       "    <tr style=\"text-align: right;\">\n",
       "      <th></th>\n",
       "      <th>guest_satisfication</th>\n",
       "      <th>host_reviews</th>\n",
       "      <th>monthly_price_factor</th>\n",
       "      <th>picture_count</th>\n",
       "      <th>price</th>\n",
       "      <th>response_rate</th>\n",
       "      <th>reviews_count</th>\n",
       "      <th>weekly_price_factor</th>\n",
       "      <th>listing_key</th>\n",
       "    </tr>\n",
       "  </thead>\n",
       "  <tbody>\n",
       "    <tr>\n",
       "      <th>0</th>\n",
       "      <td>95</td>\n",
       "      <td>311</td>\n",
       "      <td>0.88</td>\n",
       "      <td>19</td>\n",
       "      <td>22</td>\n",
       "      <td>100</td>\n",
       "      <td>50</td>\n",
       "      <td>0.88</td>\n",
       "      <td>20776319</td>\n",
       "    </tr>\n",
       "  </tbody>\n",
       "</table>\n",
       "</div>"
      ],
      "text/plain": [
       "   guest_satisfication  host_reviews  monthly_price_factor  picture_count  \\\n",
       "0                   95           311                  0.88             19   \n",
       "\n",
       "   price  response_rate  reviews_count  weekly_price_factor  listing_key  \n",
       "0     22            100             50                 0.88     20776319  "
      ]
     },
     "execution_count": 17,
     "metadata": {},
     "output_type": "execute_result"
    }
   ],
   "source": [
    "features.head(1)"
   ]
  },
  {
   "cell_type": "code",
   "execution_count": 27,
   "metadata": {},
   "outputs": [],
   "source": [
    "# First deal with filters\n",
    "filtered_listings = (\n",
    "    filters\n",
    "    .query('price_in_usd > 150 & price_in_usd < 200')\n",
    "    .query('num_beds >= 4')\n",
    "    .query('person_capacity >= 4')\n",
    ")"
   ]
  },
  {
   "cell_type": "code",
   "execution_count": 28,
   "metadata": {},
   "outputs": [
    {
     "data": {
      "text/plain": [
       "(172, 15)"
      ]
     },
     "execution_count": 28,
     "metadata": {},
     "output_type": "execute_result"
    }
   ],
   "source": [
    "filtered_listings.shape"
   ]
  },
  {
   "cell_type": "code",
   "execution_count": 24,
   "metadata": {},
   "outputs": [
    {
     "data": {
      "text/plain": [
       "{'guest_satisfication': 0.25,\n",
       " 'host_reviews': 0.25,\n",
       " 'response_rate': 0.25,\n",
       " 'reviews_count': 0.25}"
      ]
     },
     "execution_count": 24,
     "metadata": {},
     "output_type": "execute_result"
    }
   ],
   "source": [
    "# Second get preferences from user\n",
    "DEFAULT_WEIGHTINGS = {\n",
    "    'guest_satisfication': 1,\n",
    "    'host_reviews': 1,\n",
    "    'reviews_count': 1,\n",
    "    'response_rate': 1\n",
    "}\n",
    "FINAL_WEIGHTS = {k: v / len(DEFAULT_WEIGHTINGS) for k, v in DEFAULT_WEIGHTINGS.items()}\n",
    "FINAL_WEIGHTS"
   ]
  },
  {
   "cell_type": "code",
   "execution_count": 29,
   "metadata": {},
   "outputs": [
    {
     "data": {
      "text/plain": [
       "(172, 23)"
      ]
     },
     "execution_count": 29,
     "metadata": {},
     "output_type": "execute_result"
    }
   ],
   "source": [
    "filtered_listings = pd.merge(filtered_listings, features, on='listing_key')\n",
    "filtered_listings.shape"
   ]
  },
  {
   "cell_type": "code",
   "execution_count": 34,
   "metadata": {},
   "outputs": [],
   "source": [
    "# Create weightings (assume equal)\n",
    "FINAL_WEIGHTS = {\n",
    "    'guest_satisfication': 0.25,\n",
    "    'host_reviews': 0.25,\n",
    "    'reviews_count': 0.25,\n",
    "    'response_rate': 0.25\n",
    "}\n",
    "\n",
    "ranked_features = pd.DataFrame()\n",
    "# Compute Percentile Rank\n",
    "ranked_features = ranked_features.assign(guest_satisfication_rank=filtered_listings['guest_satisfication'].rank(pct=True),\n",
    "                                         host_reviews_rank=filtered_listings['host_reviews'].rank(pct=True),\n",
    "                                         reviews_count_rank=filtered_listings['reviews_count'].rank(pct=True),\n",
    "                                         response_rate_rank=filtered_listings['response_rate'].rank(pct=True),\n",
    "                                         listing_key=filtered_listings['listing_key'],\n",
    "                                        )\n",
    "# Add up Percentile Rank * Column Weightings\n",
    "ranked_features = ranked_features.assign(\n",
    "    cumulative_score=ranked_features['guest_satisfication_rank'] * FINAL_WEIGHTS.get('guest_satisfication') +\n",
    "                     ranked_features['host_reviews_rank'] * FINAL_WEIGHTS.get('host_reviews') +\n",
    "                     ranked_features['reviews_count_rank'] * FINAL_WEIGHTS.get('reviews_count') +\n",
    "                     ranked_features['response_rate_rank'] * FINAL_WEIGHTS.get('response_rate'))\n",
    "\n",
    "# Grab the listing_key and cumulative_score columns\n",
    "rankings = (\n",
    "    ranked_features\n",
    "    .sort_values(by='cumulative_score', ascending=False)\n",
    "    .loc[:, ['cumulative_score', 'listing_key']]\n",
    ")"
   ]
  },
  {
   "cell_type": "code",
   "execution_count": 37,
   "metadata": {},
   "outputs": [],
   "source": [
    "# Reset the index \n",
    "rankings = rankings.reset_index()"
   ]
  },
  {
   "cell_type": "code",
   "execution_count": 39,
   "metadata": {},
   "outputs": [
    {
     "data": {
      "text/html": [
       "<div>\n",
       "<style scoped>\n",
       "    .dataframe tbody tr th:only-of-type {\n",
       "        vertical-align: middle;\n",
       "    }\n",
       "\n",
       "    .dataframe tbody tr th {\n",
       "        vertical-align: top;\n",
       "    }\n",
       "\n",
       "    .dataframe thead th {\n",
       "        text-align: right;\n",
       "    }\n",
       "</style>\n",
       "<table border=\"1\" class=\"dataframe\">\n",
       "  <thead>\n",
       "    <tr style=\"text-align: right;\">\n",
       "      <th></th>\n",
       "      <th>index</th>\n",
       "      <th>cumulative_score</th>\n",
       "      <th>listing_key</th>\n",
       "    </tr>\n",
       "  </thead>\n",
       "  <tbody>\n",
       "    <tr>\n",
       "      <th>0</th>\n",
       "      <td>140</td>\n",
       "      <td>0.837936</td>\n",
       "      <td>18977822</td>\n",
       "    </tr>\n",
       "    <tr>\n",
       "      <th>1</th>\n",
       "      <td>139</td>\n",
       "      <td>0.820494</td>\n",
       "      <td>17855607</td>\n",
       "    </tr>\n",
       "    <tr>\n",
       "      <th>2</th>\n",
       "      <td>102</td>\n",
       "      <td>0.802326</td>\n",
       "      <td>10823831</td>\n",
       "    </tr>\n",
       "    <tr>\n",
       "      <th>3</th>\n",
       "      <td>122</td>\n",
       "      <td>0.789244</td>\n",
       "      <td>29510479</td>\n",
       "    </tr>\n",
       "    <tr>\n",
       "      <th>4</th>\n",
       "      <td>71</td>\n",
       "      <td>0.763081</td>\n",
       "      <td>3575602</td>\n",
       "    </tr>\n",
       "  </tbody>\n",
       "</table>\n",
       "</div>"
      ],
      "text/plain": [
       "   index  cumulative_score  listing_key\n",
       "0    140          0.837936     18977822\n",
       "1    139          0.820494     17855607\n",
       "2    102          0.802326     10823831\n",
       "3    122          0.789244     29510479\n",
       "4     71          0.763081      3575602"
      ]
     },
     "execution_count": 39,
     "metadata": {},
     "output_type": "execute_result"
    }
   ],
   "source": [
    "rankings.head()"
   ]
  },
  {
   "cell_type": "code",
   "execution_count": 38,
   "metadata": {},
   "outputs": [
    {
     "data": {
      "text/html": [
       "<div>\n",
       "<style scoped>\n",
       "    .dataframe tbody tr th:only-of-type {\n",
       "        vertical-align: middle;\n",
       "    }\n",
       "\n",
       "    .dataframe tbody tr th {\n",
       "        vertical-align: top;\n",
       "    }\n",
       "\n",
       "    .dataframe thead th {\n",
       "        text-align: right;\n",
       "    }\n",
       "</style>\n",
       "<table border=\"1\" class=\"dataframe\">\n",
       "  <thead>\n",
       "    <tr style=\"text-align: right;\">\n",
       "      <th></th>\n",
       "      <th>index</th>\n",
       "      <th>cumulative_score</th>\n",
       "      <th>listing_key</th>\n",
       "    </tr>\n",
       "  </thead>\n",
       "  <tbody>\n",
       "    <tr>\n",
       "      <th>2</th>\n",
       "      <td>102</td>\n",
       "      <td>0.802326</td>\n",
       "      <td>10823831</td>\n",
       "    </tr>\n",
       "  </tbody>\n",
       "</table>\n",
       "</div>"
      ],
      "text/plain": [
       "   index  cumulative_score  listing_key\n",
       "2    102          0.802326     10823831"
      ]
     },
     "execution_count": 38,
     "metadata": {},
     "output_type": "execute_result"
    }
   ],
   "source": [
    "rankings[rankings.listing_key == 10823831]"
   ]
  },
  {
   "cell_type": "code",
   "execution_count": null,
   "metadata": {},
   "outputs": [],
   "source": []
  }
 ],
 "metadata": {
  "kernelspec": {
   "display_name": "Python 3",
   "language": "python",
   "name": "python3"
  },
  "language_info": {
   "codemirror_mode": {
    "name": "ipython",
    "version": 3
   },
   "file_extension": ".py",
   "mimetype": "text/x-python",
   "name": "python",
   "nbconvert_exporter": "python",
   "pygments_lexer": "ipython3",
   "version": "3.6.5"
  }
 },
 "nbformat": 4,
 "nbformat_minor": 4
}
