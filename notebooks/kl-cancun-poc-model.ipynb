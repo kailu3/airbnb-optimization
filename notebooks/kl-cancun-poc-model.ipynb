{
 "cells": [
  {
   "cell_type": "code",
   "execution_count": 5,
   "metadata": {},
   "outputs": [],
   "source": [
    "import numpy as np\n",
    "import pandas as pd"
   ]
  },
  {
   "cell_type": "code",
   "execution_count": 12,
   "metadata": {},
   "outputs": [],
   "source": [
    "features = pd.read_csv('../data/processed/cancun_filtered_features.csv')\n",
    "filters = pd.read_csv('../data/processed/cancun_filters.csv')"
   ]
  },
  {
   "cell_type": "code",
   "execution_count": 13,
   "metadata": {},
   "outputs": [
    {
     "data": {
      "text/html": [
       "<div>\n",
       "<style scoped>\n",
       "    .dataframe tbody tr th:only-of-type {\n",
       "        vertical-align: middle;\n",
       "    }\n",
       "\n",
       "    .dataframe tbody tr th {\n",
       "        vertical-align: top;\n",
       "    }\n",
       "\n",
       "    .dataframe thead th {\n",
       "        text-align: right;\n",
       "    }\n",
       "</style>\n",
       "<table border=\"1\" class=\"dataframe\">\n",
       "  <thead>\n",
       "    <tr style=\"text-align: right;\">\n",
       "      <th></th>\n",
       "      <th>bathrooms</th>\n",
       "      <th>bedrooms</th>\n",
       "      <th>num_beds</th>\n",
       "      <th>can_instant_book</th>\n",
       "      <th>is_fully_refundable</th>\n",
       "      <th>is_superhost</th>\n",
       "      <th>is_new_listing</th>\n",
       "      <th>room_type_category</th>\n",
       "      <th>person_capacity</th>\n",
       "      <th>lat</th>\n",
       "      <th>lng</th>\n",
       "      <th>price</th>\n",
       "      <th>url</th>\n",
       "      <th>listing_key</th>\n",
       "    </tr>\n",
       "  </thead>\n",
       "  <tbody>\n",
       "    <tr>\n",
       "      <th>0</th>\n",
       "      <td>1.0</td>\n",
       "      <td>1.0</td>\n",
       "      <td>1</td>\n",
       "      <td>True</td>\n",
       "      <td>True</td>\n",
       "      <td>True</td>\n",
       "      <td>False</td>\n",
       "      <td>private_room</td>\n",
       "      <td>2</td>\n",
       "      <td>21.13566</td>\n",
       "      <td>-86.76741</td>\n",
       "      <td>22</td>\n",
       "      <td>https://www.airbnb.com/rooms/20776319</td>\n",
       "      <td>20776319</td>\n",
       "    </tr>\n",
       "  </tbody>\n",
       "</table>\n",
       "</div>"
      ],
      "text/plain": [
       "   bathrooms  bedrooms  num_beds  can_instant_book  is_fully_refundable  \\\n",
       "0        1.0       1.0         1              True                 True   \n",
       "\n",
       "   is_superhost  is_new_listing room_type_category  person_capacity       lat  \\\n",
       "0          True           False       private_room                2  21.13566   \n",
       "\n",
       "        lng  price                                    url  listing_key  \n",
       "0 -86.76741     22  https://www.airbnb.com/rooms/20776319     20776319  "
      ]
     },
     "execution_count": 13,
     "metadata": {},
     "output_type": "execute_result"
    }
   ],
   "source": [
    "filters.head(1)"
   ]
  },
  {
   "cell_type": "code",
   "execution_count": 14,
   "metadata": {},
   "outputs": [
    {
     "data": {
      "text/html": [
       "<div>\n",
       "<style scoped>\n",
       "    .dataframe tbody tr th:only-of-type {\n",
       "        vertical-align: middle;\n",
       "    }\n",
       "\n",
       "    .dataframe tbody tr th {\n",
       "        vertical-align: top;\n",
       "    }\n",
       "\n",
       "    .dataframe thead th {\n",
       "        text-align: right;\n",
       "    }\n",
       "</style>\n",
       "<table border=\"1\" class=\"dataframe\">\n",
       "  <thead>\n",
       "    <tr style=\"text-align: right;\">\n",
       "      <th></th>\n",
       "      <th>guest_satisfication</th>\n",
       "      <th>host_reviews</th>\n",
       "      <th>monthly_price_factor</th>\n",
       "      <th>picture_count</th>\n",
       "      <th>price</th>\n",
       "      <th>response_rate</th>\n",
       "      <th>reviews_count</th>\n",
       "      <th>weekly_price_factor</th>\n",
       "      <th>listing_key</th>\n",
       "    </tr>\n",
       "  </thead>\n",
       "  <tbody>\n",
       "    <tr>\n",
       "      <th>0</th>\n",
       "      <td>95</td>\n",
       "      <td>311</td>\n",
       "      <td>0.88</td>\n",
       "      <td>19</td>\n",
       "      <td>22</td>\n",
       "      <td>100</td>\n",
       "      <td>50</td>\n",
       "      <td>0.88</td>\n",
       "      <td>20776319</td>\n",
       "    </tr>\n",
       "  </tbody>\n",
       "</table>\n",
       "</div>"
      ],
      "text/plain": [
       "   guest_satisfication  host_reviews  monthly_price_factor  picture_count  \\\n",
       "0                   95           311                  0.88             19   \n",
       "\n",
       "   price  response_rate  reviews_count  weekly_price_factor  listing_key  \n",
       "0     22            100             50                 0.88     20776319  "
      ]
     },
     "execution_count": 14,
     "metadata": {},
     "output_type": "execute_result"
    }
   ],
   "source": [
    "features.head(1)"
   ]
  },
  {
   "cell_type": "code",
   "execution_count": null,
   "metadata": {},
   "outputs": [],
   "source": [
    "# Import data"
   ]
  },
  {
   "cell_type": "code",
   "execution_count": 1,
   "metadata": {},
   "outputs": [],
   "source": [
    "# First deal with filters\n",
    "\n",
    "# TODO: Create function where user can input price range, beds, etc "
   ]
  },
  {
   "cell_type": "code",
   "execution_count": 2,
   "metadata": {},
   "outputs": [],
   "source": [
    "# Second get preferences from user"
   ]
  },
  {
   "cell_type": "code",
   "execution_count": 3,
   "metadata": {},
   "outputs": [],
   "source": [
    "# Create weightings"
   ]
  },
  {
   "cell_type": "code",
   "execution_count": 4,
   "metadata": {},
   "outputs": [],
   "source": [
    "# Create score and rank listings"
   ]
  },
  {
   "cell_type": "code",
   "execution_count": null,
   "metadata": {},
   "outputs": [],
   "source": []
  }
 ],
 "metadata": {
  "kernelspec": {
   "display_name": "Python 3",
   "language": "python",
   "name": "python3"
  },
  "language_info": {
   "codemirror_mode": {
    "name": "ipython",
    "version": 3
   },
   "file_extension": ".py",
   "mimetype": "text/x-python",
   "name": "python",
   "nbconvert_exporter": "python",
   "pygments_lexer": "ipython3",
   "version": "3.6.5"
  }
 },
 "nbformat": 4,
 "nbformat_minor": 4
}
